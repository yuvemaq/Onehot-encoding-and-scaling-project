{
 "cells": [
  {
   "cell_type": "markdown",
   "metadata": {},
   "source": [
    "## Pre-Processing & Training Data Development"
   ]
  },
  {
   "cell_type": "markdown",
   "metadata": {},
   "source": [
    "Goals:\n",
    "- Create dummy or indicator features for categorical variables\n",
    "- Standardize the magnitude of numeric features using a scaler\n",
    "- Split data into testing and training datasets"
   ]
  },
  {
   "cell_type": "code",
   "execution_count": 1,
   "metadata": {},
   "outputs": [
    {
     "name": "stderr",
     "output_type": "stream",
     "text": [
      "<ipython-input-1-ea8b2f27c408>:8: FutureWarning: pandas.util.testing is deprecated. Use the functions in the public API at pandas.testing instead.\n",
      "  import pandas.util.testing as tm\n"
     ]
    }
   ],
   "source": [
    "import numpy as np\n",
    "import pandas as pd\n",
    "import seaborn as sns\n",
    "import matplotlib.pyplot as plt\n",
    "%matplotlib inline\n",
    "from sklearn.model_selection import train_test_split\n",
    "import scipy\n",
    "import pandas.util.testing as tm\n",
    "import warnings\n",
    "warnings.simplefilter(action='ignore', category=FutureWarning)"
   ]
  },
  {
   "cell_type": "code",
   "execution_count": 2,
   "metadata": {},
   "outputs": [
    {
     "data": {
      "text/html": [
       "<div>\n",
       "<style scoped>\n",
       "    .dataframe tbody tr th:only-of-type {\n",
       "        vertical-align: middle;\n",
       "    }\n",
       "\n",
       "    .dataframe tbody tr th {\n",
       "        vertical-align: top;\n",
       "    }\n",
       "\n",
       "    .dataframe thead th {\n",
       "        text-align: right;\n",
       "    }\n",
       "</style>\n",
       "<table border=\"1\" class=\"dataframe\">\n",
       "  <thead>\n",
       "    <tr style=\"text-align: right;\">\n",
       "      <th></th>\n",
       "      <th>ride_id</th>\n",
       "      <th>rideable_type</th>\n",
       "      <th>started_at</th>\n",
       "      <th>ended_at</th>\n",
       "      <th>start_station_name</th>\n",
       "      <th>start_station_id</th>\n",
       "      <th>end_station_name</th>\n",
       "      <th>end_station_id</th>\n",
       "      <th>start_lat</th>\n",
       "      <th>start_lng</th>\n",
       "      <th>end_lat</th>\n",
       "      <th>end_lng</th>\n",
       "      <th>member_casual</th>\n",
       "      <th>day_week_start</th>\n",
       "      <th>duration</th>\n",
       "      <th>distance</th>\n",
       "    </tr>\n",
       "  </thead>\n",
       "  <tbody>\n",
       "    <tr>\n",
       "      <th>0</th>\n",
       "      <td>000001004784CD35</td>\n",
       "      <td>docked_bike</td>\n",
       "      <td>2020-07-22 15:38:23</td>\n",
       "      <td>2020-07-22 15:56:47</td>\n",
       "      <td>Wolcott (Ravenswood) Ave &amp; Montrose Ave</td>\n",
       "      <td>238</td>\n",
       "      <td>Southport Ave &amp; Clybourn Ave</td>\n",
       "      <td>307</td>\n",
       "      <td>41.961406</td>\n",
       "      <td>-87.676169</td>\n",
       "      <td>41.920771</td>\n",
       "      <td>-87.663712</td>\n",
       "      <td>casual</td>\n",
       "      <td>4.0</td>\n",
       "      <td>1824.0</td>\n",
       "      <td>42501.53</td>\n",
       "    </tr>\n",
       "    <tr>\n",
       "      <th>1</th>\n",
       "      <td>000002EBE159AE82</td>\n",
       "      <td>electric_bike</td>\n",
       "      <td>2021-06-22 17:25:15</td>\n",
       "      <td>2021-06-22 17:31:34</td>\n",
       "      <td>Clinton St &amp; Jackson Blvd</td>\n",
       "      <td>638</td>\n",
       "      <td>Milwaukee Ave &amp; Grand Ave</td>\n",
       "      <td>13033</td>\n",
       "      <td>41.878261</td>\n",
       "      <td>-87.641155</td>\n",
       "      <td>41.891495</td>\n",
       "      <td>-87.648179</td>\n",
       "      <td>member</td>\n",
       "      <td>3.0</td>\n",
       "      <td>619.0</td>\n",
       "      <td>14982.48</td>\n",
       "    </tr>\n",
       "    <tr>\n",
       "      <th>2</th>\n",
       "      <td>00000550C665101A</td>\n",
       "      <td>docked_bike</td>\n",
       "      <td>2020-06-06 15:20:01</td>\n",
       "      <td>2020-06-06 16:28:09</td>\n",
       "      <td>Sheffield Ave &amp; Waveland Ave</td>\n",
       "      <td>114</td>\n",
       "      <td>Kedzie Ave &amp; Milwaukee Ave</td>\n",
       "      <td>260</td>\n",
       "      <td>41.949399</td>\n",
       "      <td>-87.654529</td>\n",
       "      <td>41.929567</td>\n",
       "      <td>-87.707857</td>\n",
       "      <td>casual</td>\n",
       "      <td>7.0</td>\n",
       "      <td>10808.0</td>\n",
       "      <td>56896.25</td>\n",
       "    </tr>\n",
       "    <tr>\n",
       "      <th>3</th>\n",
       "      <td>0000127970C84F62</td>\n",
       "      <td>docked_bike</td>\n",
       "      <td>2020-05-30 06:36:36</td>\n",
       "      <td>2020-05-30 06:55:28</td>\n",
       "      <td>Green St &amp; Madison St</td>\n",
       "      <td>198</td>\n",
       "      <td>Wells St &amp; Concord Ln</td>\n",
       "      <td>289</td>\n",
       "      <td>41.881900</td>\n",
       "      <td>-87.648800</td>\n",
       "      <td>41.912100</td>\n",
       "      <td>-87.634700</td>\n",
       "      <td>member</td>\n",
       "      <td>7.0</td>\n",
       "      <td>1892.0</td>\n",
       "      <td>33329.42</td>\n",
       "    </tr>\n",
       "    <tr>\n",
       "      <th>4</th>\n",
       "      <td>00001A81D056B01B</td>\n",
       "      <td>classic_bike</td>\n",
       "      <td>2021-04-14 08:10:11</td>\n",
       "      <td>2021-04-14 08:19:14</td>\n",
       "      <td>Wood St &amp; Hubbard St</td>\n",
       "      <td>13432</td>\n",
       "      <td>Morgan St &amp; Lake St</td>\n",
       "      <td>TA1306000015</td>\n",
       "      <td>41.889899</td>\n",
       "      <td>-87.671473</td>\n",
       "      <td>41.885483</td>\n",
       "      <td>-87.652305</td>\n",
       "      <td>member</td>\n",
       "      <td>4.0</td>\n",
       "      <td>903.0</td>\n",
       "      <td>19670.18</td>\n",
       "    </tr>\n",
       "  </tbody>\n",
       "</table>\n",
       "</div>"
      ],
      "text/plain": [
       "            ride_id  rideable_type           started_at             ended_at  \\\n",
       "0  000001004784CD35    docked_bike  2020-07-22 15:38:23  2020-07-22 15:56:47   \n",
       "1  000002EBE159AE82  electric_bike  2021-06-22 17:25:15  2021-06-22 17:31:34   \n",
       "2  00000550C665101A    docked_bike  2020-06-06 15:20:01  2020-06-06 16:28:09   \n",
       "3  0000127970C84F62    docked_bike  2020-05-30 06:36:36  2020-05-30 06:55:28   \n",
       "4  00001A81D056B01B   classic_bike  2021-04-14 08:10:11  2021-04-14 08:19:14   \n",
       "\n",
       "                        start_station_name start_station_id  \\\n",
       "0  Wolcott (Ravenswood) Ave & Montrose Ave              238   \n",
       "1                Clinton St & Jackson Blvd              638   \n",
       "2             Sheffield Ave & Waveland Ave              114   \n",
       "3                    Green St & Madison St              198   \n",
       "4                     Wood St & Hubbard St            13432   \n",
       "\n",
       "               end_station_name end_station_id  start_lat  start_lng  \\\n",
       "0  Southport Ave & Clybourn Ave            307  41.961406 -87.676169   \n",
       "1     Milwaukee Ave & Grand Ave          13033  41.878261 -87.641155   \n",
       "2    Kedzie Ave & Milwaukee Ave            260  41.949399 -87.654529   \n",
       "3         Wells St & Concord Ln            289  41.881900 -87.648800   \n",
       "4           Morgan St & Lake St   TA1306000015  41.889899 -87.671473   \n",
       "\n",
       "     end_lat    end_lng member_casual  day_week_start  duration  distance  \n",
       "0  41.920771 -87.663712        casual             4.0    1824.0  42501.53  \n",
       "1  41.891495 -87.648179        member             3.0     619.0  14982.48  \n",
       "2  41.929567 -87.707857        casual             7.0   10808.0  56896.25  \n",
       "3  41.912100 -87.634700        member             7.0    1892.0  33329.42  \n",
       "4  41.885483 -87.652305        member             4.0     903.0  19670.18  "
      ]
     },
     "execution_count": 2,
     "metadata": {},
     "output_type": "execute_result"
    }
   ],
   "source": [
    "df = pd.read_csv(r'C:\\Users\\yuvem\\OneDrive\\Documents\\GitHub\\Preprocess and training\\final_tripdata.csv\\final_tripdata.csv')\n",
    "df.head()"
   ]
  },
  {
   "cell_type": "markdown",
   "metadata": {},
   "source": [
    "Our objective is to give the stakeholders for our company, Cyclistic, the optimal marketing decision to convert casual riders into members. "
   ]
  },
  {
   "cell_type": "code",
   "execution_count": 3,
   "metadata": {},
   "outputs": [
    {
     "name": "stdout",
     "output_type": "stream",
     "text": [
      "<class 'pandas.core.frame.DataFrame'>\n",
      "RangeIndex: 5515094 entries, 0 to 5515093\n",
      "Data columns (total 16 columns):\n",
      " #   Column              Dtype  \n",
      "---  ------              -----  \n",
      " 0   ride_id             object \n",
      " 1   rideable_type       object \n",
      " 2   started_at          object \n",
      " 3   ended_at            object \n",
      " 4   start_station_name  object \n",
      " 5   start_station_id    object \n",
      " 6   end_station_name    object \n",
      " 7   end_station_id      object \n",
      " 8   start_lat           float64\n",
      " 9   start_lng           float64\n",
      " 10  end_lat             float64\n",
      " 11  end_lng             float64\n",
      " 12  member_casual       object \n",
      " 13  day_week_start      float64\n",
      " 14  duration            float64\n",
      " 15  distance            float64\n",
      "dtypes: float64(7), object(9)\n",
      "memory usage: 673.2+ MB\n"
     ]
    }
   ],
   "source": [
    "df.info()"
   ]
  },
  {
   "cell_type": "code",
   "execution_count": 4,
   "metadata": {},
   "outputs": [
    {
     "data": {
      "text/plain": [
       "ride_id                    0\n",
       "rideable_type              1\n",
       "started_at                 1\n",
       "ended_at                   1\n",
       "start_station_name    282069\n",
       "start_station_id      282695\n",
       "end_station_name      315999\n",
       "end_station_id        316460\n",
       "start_lat                  1\n",
       "start_lng                  1\n",
       "end_lat                    1\n",
       "end_lng                    1\n",
       "member_casual              1\n",
       "day_week_start             1\n",
       "duration                   1\n",
       "distance                   1\n",
       "dtype: int64"
      ]
     },
     "execution_count": 4,
     "metadata": {},
     "output_type": "execute_result"
    }
   ],
   "source": [
    "df.isnull().sum()"
   ]
  },
  {
   "cell_type": "code",
   "execution_count": 5,
   "metadata": {},
   "outputs": [
    {
     "data": {
      "text/html": [
       "<div>\n",
       "<style scoped>\n",
       "    .dataframe tbody tr th:only-of-type {\n",
       "        vertical-align: middle;\n",
       "    }\n",
       "\n",
       "    .dataframe tbody tr th {\n",
       "        vertical-align: top;\n",
       "    }\n",
       "\n",
       "    .dataframe thead th {\n",
       "        text-align: right;\n",
       "    }\n",
       "</style>\n",
       "<table border=\"1\" class=\"dataframe\">\n",
       "  <thead>\n",
       "    <tr style=\"text-align: right;\">\n",
       "      <th></th>\n",
       "      <th>count</th>\n",
       "      <th>%</th>\n",
       "    </tr>\n",
       "  </thead>\n",
       "  <tbody>\n",
       "    <tr>\n",
       "      <th>end_station_id</th>\n",
       "      <td>316460</td>\n",
       "      <td>5.738071</td>\n",
       "    </tr>\n",
       "    <tr>\n",
       "      <th>end_station_name</th>\n",
       "      <td>315999</td>\n",
       "      <td>5.729712</td>\n",
       "    </tr>\n",
       "    <tr>\n",
       "      <th>start_station_id</th>\n",
       "      <td>282695</td>\n",
       "      <td>5.125842</td>\n",
       "    </tr>\n",
       "    <tr>\n",
       "      <th>start_station_name</th>\n",
       "      <td>282069</td>\n",
       "      <td>5.114491</td>\n",
       "    </tr>\n",
       "    <tr>\n",
       "      <th>rideable_type</th>\n",
       "      <td>1</td>\n",
       "      <td>0.000018</td>\n",
       "    </tr>\n",
       "    <tr>\n",
       "      <th>started_at</th>\n",
       "      <td>1</td>\n",
       "      <td>0.000018</td>\n",
       "    </tr>\n",
       "    <tr>\n",
       "      <th>ended_at</th>\n",
       "      <td>1</td>\n",
       "      <td>0.000018</td>\n",
       "    </tr>\n",
       "    <tr>\n",
       "      <th>start_lat</th>\n",
       "      <td>1</td>\n",
       "      <td>0.000018</td>\n",
       "    </tr>\n",
       "    <tr>\n",
       "      <th>start_lng</th>\n",
       "      <td>1</td>\n",
       "      <td>0.000018</td>\n",
       "    </tr>\n",
       "    <tr>\n",
       "      <th>end_lat</th>\n",
       "      <td>1</td>\n",
       "      <td>0.000018</td>\n",
       "    </tr>\n",
       "    <tr>\n",
       "      <th>end_lng</th>\n",
       "      <td>1</td>\n",
       "      <td>0.000018</td>\n",
       "    </tr>\n",
       "    <tr>\n",
       "      <th>member_casual</th>\n",
       "      <td>1</td>\n",
       "      <td>0.000018</td>\n",
       "    </tr>\n",
       "    <tr>\n",
       "      <th>day_week_start</th>\n",
       "      <td>1</td>\n",
       "      <td>0.000018</td>\n",
       "    </tr>\n",
       "    <tr>\n",
       "      <th>duration</th>\n",
       "      <td>1</td>\n",
       "      <td>0.000018</td>\n",
       "    </tr>\n",
       "    <tr>\n",
       "      <th>distance</th>\n",
       "      <td>1</td>\n",
       "      <td>0.000018</td>\n",
       "    </tr>\n",
       "    <tr>\n",
       "      <th>ride_id</th>\n",
       "      <td>0</td>\n",
       "      <td>0.000000</td>\n",
       "    </tr>\n",
       "  </tbody>\n",
       "</table>\n",
       "</div>"
      ],
      "text/plain": [
       "                     count         %\n",
       "end_station_id      316460  5.738071\n",
       "end_station_name    315999  5.729712\n",
       "start_station_id    282695  5.125842\n",
       "start_station_name  282069  5.114491\n",
       "rideable_type            1  0.000018\n",
       "started_at               1  0.000018\n",
       "ended_at                 1  0.000018\n",
       "start_lat                1  0.000018\n",
       "start_lng                1  0.000018\n",
       "end_lat                  1  0.000018\n",
       "end_lng                  1  0.000018\n",
       "member_casual            1  0.000018\n",
       "day_week_start           1  0.000018\n",
       "duration                 1  0.000018\n",
       "distance                 1  0.000018\n",
       "ride_id                  0  0.000000"
      ]
     },
     "execution_count": 5,
     "metadata": {},
     "output_type": "execute_result"
    }
   ],
   "source": [
    "missing = pd.concat([df.isnull().sum(), 100 * df.isnull().mean()], axis=1)\n",
    "missing.columns=['count', '%']\n",
    "missing.sort_values(by='%', ascending=False)"
   ]
  },
  {
   "cell_type": "code",
   "execution_count": 6,
   "metadata": {},
   "outputs": [
    {
     "data": {
      "text/plain": [
       "ride_id                object\n",
       "rideable_type          object\n",
       "started_at             object\n",
       "ended_at               object\n",
       "start_station_name     object\n",
       "start_station_id       object\n",
       "end_station_name       object\n",
       "end_station_id         object\n",
       "start_lat             float64\n",
       "start_lng             float64\n",
       "end_lat               float64\n",
       "end_lng               float64\n",
       "member_casual          object\n",
       "day_week_start        float64\n",
       "duration              float64\n",
       "distance              float64\n",
       "dtype: object"
      ]
     },
     "execution_count": 6,
     "metadata": {},
     "output_type": "execute_result"
    }
   ],
   "source": [
    "df.dtypes"
   ]
  },
  {
   "cell_type": "markdown",
   "metadata": {},
   "source": [
    "### Conversions"
   ]
  },
  {
   "cell_type": "code",
   "execution_count": 7,
   "metadata": {},
   "outputs": [
    {
     "data": {
      "text/plain": [
       "array([ 4.,  3.,  7.,  1.,  5.,  6.,  2., nan])"
      ]
     },
     "execution_count": 7,
     "metadata": {},
     "output_type": "execute_result"
    }
   ],
   "source": [
    "df['day_week_start'].unique()"
   ]
  },
  {
   "cell_type": "code",
   "execution_count": 8,
   "metadata": {},
   "outputs": [],
   "source": [
    "df['day_week_start'] = df['day_week_start'].fillna(0)"
   ]
  },
  {
   "cell_type": "code",
   "execution_count": 9,
   "metadata": {},
   "outputs": [
    {
     "data": {
      "text/plain": [
       "array([4., 3., 7., 1., 5., 6., 2., 0.])"
      ]
     },
     "execution_count": 9,
     "metadata": {},
     "output_type": "execute_result"
    }
   ],
   "source": [
    "df['day_week_start'].unique()"
   ]
  },
  {
   "cell_type": "code",
   "execution_count": 10,
   "metadata": {},
   "outputs": [],
   "source": [
    "df['day_week_start'] = df['day_week_start'].astype(int)"
   ]
  },
  {
   "cell_type": "code",
   "execution_count": 11,
   "metadata": {},
   "outputs": [
    {
     "data": {
      "text/plain": [
       "dtype('int32')"
      ]
     },
     "execution_count": 11,
     "metadata": {},
     "output_type": "execute_result"
    }
   ],
   "source": [
    "df['day_week_start'].dtype"
   ]
  },
  {
   "cell_type": "code",
   "execution_count": 12,
   "metadata": {},
   "outputs": [
    {
     "data": {
      "text/html": [
       "<div>\n",
       "<style scoped>\n",
       "    .dataframe tbody tr th:only-of-type {\n",
       "        vertical-align: middle;\n",
       "    }\n",
       "\n",
       "    .dataframe tbody tr th {\n",
       "        vertical-align: top;\n",
       "    }\n",
       "\n",
       "    .dataframe thead th {\n",
       "        text-align: right;\n",
       "    }\n",
       "</style>\n",
       "<table border=\"1\" class=\"dataframe\">\n",
       "  <thead>\n",
       "    <tr style=\"text-align: right;\">\n",
       "      <th></th>\n",
       "      <th>ride_id</th>\n",
       "      <th>rideable_type</th>\n",
       "      <th>started_at</th>\n",
       "      <th>ended_at</th>\n",
       "      <th>start_station_name</th>\n",
       "      <th>start_station_id</th>\n",
       "      <th>end_station_name</th>\n",
       "      <th>end_station_id</th>\n",
       "      <th>start_lat</th>\n",
       "      <th>start_lng</th>\n",
       "      <th>end_lat</th>\n",
       "      <th>end_lng</th>\n",
       "      <th>member_casual</th>\n",
       "      <th>day_week_start</th>\n",
       "      <th>duration</th>\n",
       "      <th>distance</th>\n",
       "    </tr>\n",
       "  </thead>\n",
       "  <tbody>\n",
       "    <tr>\n",
       "      <th>0</th>\n",
       "      <td>000001004784CD35</td>\n",
       "      <td>docked_bike</td>\n",
       "      <td>2020-07-22 15:38:23</td>\n",
       "      <td>2020-07-22 15:56:47</td>\n",
       "      <td>Wolcott (Ravenswood) Ave &amp; Montrose Ave</td>\n",
       "      <td>238</td>\n",
       "      <td>Southport Ave &amp; Clybourn Ave</td>\n",
       "      <td>307</td>\n",
       "      <td>41.961406</td>\n",
       "      <td>-87.676169</td>\n",
       "      <td>41.920771</td>\n",
       "      <td>-87.663712</td>\n",
       "      <td>casual</td>\n",
       "      <td>4</td>\n",
       "      <td>1824.0</td>\n",
       "      <td>42501.53</td>\n",
       "    </tr>\n",
       "    <tr>\n",
       "      <th>1</th>\n",
       "      <td>000002EBE159AE82</td>\n",
       "      <td>electric_bike</td>\n",
       "      <td>2021-06-22 17:25:15</td>\n",
       "      <td>2021-06-22 17:31:34</td>\n",
       "      <td>Clinton St &amp; Jackson Blvd</td>\n",
       "      <td>638</td>\n",
       "      <td>Milwaukee Ave &amp; Grand Ave</td>\n",
       "      <td>13033</td>\n",
       "      <td>41.878261</td>\n",
       "      <td>-87.641155</td>\n",
       "      <td>41.891495</td>\n",
       "      <td>-87.648179</td>\n",
       "      <td>member</td>\n",
       "      <td>3</td>\n",
       "      <td>619.0</td>\n",
       "      <td>14982.48</td>\n",
       "    </tr>\n",
       "    <tr>\n",
       "      <th>2</th>\n",
       "      <td>00000550C665101A</td>\n",
       "      <td>docked_bike</td>\n",
       "      <td>2020-06-06 15:20:01</td>\n",
       "      <td>2020-06-06 16:28:09</td>\n",
       "      <td>Sheffield Ave &amp; Waveland Ave</td>\n",
       "      <td>114</td>\n",
       "      <td>Kedzie Ave &amp; Milwaukee Ave</td>\n",
       "      <td>260</td>\n",
       "      <td>41.949399</td>\n",
       "      <td>-87.654529</td>\n",
       "      <td>41.929567</td>\n",
       "      <td>-87.707857</td>\n",
       "      <td>casual</td>\n",
       "      <td>7</td>\n",
       "      <td>10808.0</td>\n",
       "      <td>56896.25</td>\n",
       "    </tr>\n",
       "    <tr>\n",
       "      <th>3</th>\n",
       "      <td>0000127970C84F62</td>\n",
       "      <td>docked_bike</td>\n",
       "      <td>2020-05-30 06:36:36</td>\n",
       "      <td>2020-05-30 06:55:28</td>\n",
       "      <td>Green St &amp; Madison St</td>\n",
       "      <td>198</td>\n",
       "      <td>Wells St &amp; Concord Ln</td>\n",
       "      <td>289</td>\n",
       "      <td>41.881900</td>\n",
       "      <td>-87.648800</td>\n",
       "      <td>41.912100</td>\n",
       "      <td>-87.634700</td>\n",
       "      <td>member</td>\n",
       "      <td>7</td>\n",
       "      <td>1892.0</td>\n",
       "      <td>33329.42</td>\n",
       "    </tr>\n",
       "    <tr>\n",
       "      <th>4</th>\n",
       "      <td>00001A81D056B01B</td>\n",
       "      <td>classic_bike</td>\n",
       "      <td>2021-04-14 08:10:11</td>\n",
       "      <td>2021-04-14 08:19:14</td>\n",
       "      <td>Wood St &amp; Hubbard St</td>\n",
       "      <td>13432</td>\n",
       "      <td>Morgan St &amp; Lake St</td>\n",
       "      <td>TA1306000015</td>\n",
       "      <td>41.889899</td>\n",
       "      <td>-87.671473</td>\n",
       "      <td>41.885483</td>\n",
       "      <td>-87.652305</td>\n",
       "      <td>member</td>\n",
       "      <td>4</td>\n",
       "      <td>903.0</td>\n",
       "      <td>19670.18</td>\n",
       "    </tr>\n",
       "  </tbody>\n",
       "</table>\n",
       "</div>"
      ],
      "text/plain": [
       "            ride_id  rideable_type           started_at             ended_at  \\\n",
       "0  000001004784CD35    docked_bike  2020-07-22 15:38:23  2020-07-22 15:56:47   \n",
       "1  000002EBE159AE82  electric_bike  2021-06-22 17:25:15  2021-06-22 17:31:34   \n",
       "2  00000550C665101A    docked_bike  2020-06-06 15:20:01  2020-06-06 16:28:09   \n",
       "3  0000127970C84F62    docked_bike  2020-05-30 06:36:36  2020-05-30 06:55:28   \n",
       "4  00001A81D056B01B   classic_bike  2021-04-14 08:10:11  2021-04-14 08:19:14   \n",
       "\n",
       "                        start_station_name start_station_id  \\\n",
       "0  Wolcott (Ravenswood) Ave & Montrose Ave              238   \n",
       "1                Clinton St & Jackson Blvd              638   \n",
       "2             Sheffield Ave & Waveland Ave              114   \n",
       "3                    Green St & Madison St              198   \n",
       "4                     Wood St & Hubbard St            13432   \n",
       "\n",
       "               end_station_name end_station_id  start_lat  start_lng  \\\n",
       "0  Southport Ave & Clybourn Ave            307  41.961406 -87.676169   \n",
       "1     Milwaukee Ave & Grand Ave          13033  41.878261 -87.641155   \n",
       "2    Kedzie Ave & Milwaukee Ave            260  41.949399 -87.654529   \n",
       "3         Wells St & Concord Ln            289  41.881900 -87.648800   \n",
       "4           Morgan St & Lake St   TA1306000015  41.889899 -87.671473   \n",
       "\n",
       "     end_lat    end_lng member_casual  day_week_start  duration  distance  \n",
       "0  41.920771 -87.663712        casual               4    1824.0  42501.53  \n",
       "1  41.891495 -87.648179        member               3     619.0  14982.48  \n",
       "2  41.929567 -87.707857        casual               7   10808.0  56896.25  \n",
       "3  41.912100 -87.634700        member               7    1892.0  33329.42  \n",
       "4  41.885483 -87.652305        member               4     903.0  19670.18  "
      ]
     },
     "execution_count": 12,
     "metadata": {},
     "output_type": "execute_result"
    }
   ],
   "source": [
    "df.head()"
   ]
  },
  {
   "cell_type": "code",
   "execution_count": 13,
   "metadata": {},
   "outputs": [],
   "source": [
    "df['hour'] = pd.to_datetime(df['started_at']).dt.time"
   ]
  },
  {
   "cell_type": "code",
   "execution_count": 14,
   "metadata": {},
   "outputs": [
    {
     "data": {
      "text/plain": [
       "0    15:38:23\n",
       "1    17:25:15\n",
       "2    15:20:01\n",
       "3    06:36:36\n",
       "4    08:10:11\n",
       "Name: hour, dtype: object"
      ]
     },
     "execution_count": 14,
     "metadata": {},
     "output_type": "execute_result"
    }
   ],
   "source": [
    "df['hour'].head()"
   ]
  },
  {
   "cell_type": "code",
   "execution_count": 15,
   "metadata": {},
   "outputs": [
    {
     "data": {
      "text/plain": [
       "array([datetime.time(15, 38, 23), datetime.time(17, 25, 15),\n",
       "       datetime.time(15, 20, 1), ..., datetime.time(4, 24, 32),\n",
       "       datetime.time(4, 39, 51), NaT], dtype=object)"
      ]
     },
     "execution_count": 15,
     "metadata": {},
     "output_type": "execute_result"
    }
   ],
   "source": [
    "df['hour'].unique()"
   ]
  },
  {
   "cell_type": "code",
   "execution_count": 16,
   "metadata": {},
   "outputs": [],
   "source": [
    "df['day'] = pd.to_datetime(df['started_at']).dt.date"
   ]
  },
  {
   "cell_type": "code",
   "execution_count": 17,
   "metadata": {},
   "outputs": [],
   "source": [
    "df = df.drop(columns='started_at')"
   ]
  },
  {
   "cell_type": "code",
   "execution_count": 18,
   "metadata": {},
   "outputs": [
    {
     "data": {
      "text/html": [
       "<div>\n",
       "<style scoped>\n",
       "    .dataframe tbody tr th:only-of-type {\n",
       "        vertical-align: middle;\n",
       "    }\n",
       "\n",
       "    .dataframe tbody tr th {\n",
       "        vertical-align: top;\n",
       "    }\n",
       "\n",
       "    .dataframe thead th {\n",
       "        text-align: right;\n",
       "    }\n",
       "</style>\n",
       "<table border=\"1\" class=\"dataframe\">\n",
       "  <thead>\n",
       "    <tr style=\"text-align: right;\">\n",
       "      <th></th>\n",
       "      <th>ride_id</th>\n",
       "      <th>rideable_type</th>\n",
       "      <th>ended_at</th>\n",
       "      <th>start_station_name</th>\n",
       "      <th>start_station_id</th>\n",
       "      <th>end_station_name</th>\n",
       "      <th>end_station_id</th>\n",
       "      <th>start_lat</th>\n",
       "      <th>start_lng</th>\n",
       "      <th>end_lat</th>\n",
       "      <th>end_lng</th>\n",
       "      <th>member_casual</th>\n",
       "      <th>day_week_start</th>\n",
       "      <th>duration</th>\n",
       "      <th>distance</th>\n",
       "      <th>hour</th>\n",
       "      <th>day</th>\n",
       "    </tr>\n",
       "  </thead>\n",
       "  <tbody>\n",
       "    <tr>\n",
       "      <th>0</th>\n",
       "      <td>000001004784CD35</td>\n",
       "      <td>docked_bike</td>\n",
       "      <td>2020-07-22 15:56:47</td>\n",
       "      <td>Wolcott (Ravenswood) Ave &amp; Montrose Ave</td>\n",
       "      <td>238</td>\n",
       "      <td>Southport Ave &amp; Clybourn Ave</td>\n",
       "      <td>307</td>\n",
       "      <td>41.961406</td>\n",
       "      <td>-87.676169</td>\n",
       "      <td>41.920771</td>\n",
       "      <td>-87.663712</td>\n",
       "      <td>casual</td>\n",
       "      <td>4</td>\n",
       "      <td>1824.0</td>\n",
       "      <td>42501.53</td>\n",
       "      <td>15:38:23</td>\n",
       "      <td>2020-07-22</td>\n",
       "    </tr>\n",
       "    <tr>\n",
       "      <th>1</th>\n",
       "      <td>000002EBE159AE82</td>\n",
       "      <td>electric_bike</td>\n",
       "      <td>2021-06-22 17:31:34</td>\n",
       "      <td>Clinton St &amp; Jackson Blvd</td>\n",
       "      <td>638</td>\n",
       "      <td>Milwaukee Ave &amp; Grand Ave</td>\n",
       "      <td>13033</td>\n",
       "      <td>41.878261</td>\n",
       "      <td>-87.641155</td>\n",
       "      <td>41.891495</td>\n",
       "      <td>-87.648179</td>\n",
       "      <td>member</td>\n",
       "      <td>3</td>\n",
       "      <td>619.0</td>\n",
       "      <td>14982.48</td>\n",
       "      <td>17:25:15</td>\n",
       "      <td>2021-06-22</td>\n",
       "    </tr>\n",
       "    <tr>\n",
       "      <th>2</th>\n",
       "      <td>00000550C665101A</td>\n",
       "      <td>docked_bike</td>\n",
       "      <td>2020-06-06 16:28:09</td>\n",
       "      <td>Sheffield Ave &amp; Waveland Ave</td>\n",
       "      <td>114</td>\n",
       "      <td>Kedzie Ave &amp; Milwaukee Ave</td>\n",
       "      <td>260</td>\n",
       "      <td>41.949399</td>\n",
       "      <td>-87.654529</td>\n",
       "      <td>41.929567</td>\n",
       "      <td>-87.707857</td>\n",
       "      <td>casual</td>\n",
       "      <td>7</td>\n",
       "      <td>10808.0</td>\n",
       "      <td>56896.25</td>\n",
       "      <td>15:20:01</td>\n",
       "      <td>2020-06-06</td>\n",
       "    </tr>\n",
       "    <tr>\n",
       "      <th>3</th>\n",
       "      <td>0000127970C84F62</td>\n",
       "      <td>docked_bike</td>\n",
       "      <td>2020-05-30 06:55:28</td>\n",
       "      <td>Green St &amp; Madison St</td>\n",
       "      <td>198</td>\n",
       "      <td>Wells St &amp; Concord Ln</td>\n",
       "      <td>289</td>\n",
       "      <td>41.881900</td>\n",
       "      <td>-87.648800</td>\n",
       "      <td>41.912100</td>\n",
       "      <td>-87.634700</td>\n",
       "      <td>member</td>\n",
       "      <td>7</td>\n",
       "      <td>1892.0</td>\n",
       "      <td>33329.42</td>\n",
       "      <td>06:36:36</td>\n",
       "      <td>2020-05-30</td>\n",
       "    </tr>\n",
       "    <tr>\n",
       "      <th>4</th>\n",
       "      <td>00001A81D056B01B</td>\n",
       "      <td>classic_bike</td>\n",
       "      <td>2021-04-14 08:19:14</td>\n",
       "      <td>Wood St &amp; Hubbard St</td>\n",
       "      <td>13432</td>\n",
       "      <td>Morgan St &amp; Lake St</td>\n",
       "      <td>TA1306000015</td>\n",
       "      <td>41.889899</td>\n",
       "      <td>-87.671473</td>\n",
       "      <td>41.885483</td>\n",
       "      <td>-87.652305</td>\n",
       "      <td>member</td>\n",
       "      <td>4</td>\n",
       "      <td>903.0</td>\n",
       "      <td>19670.18</td>\n",
       "      <td>08:10:11</td>\n",
       "      <td>2021-04-14</td>\n",
       "    </tr>\n",
       "  </tbody>\n",
       "</table>\n",
       "</div>"
      ],
      "text/plain": [
       "            ride_id  rideable_type             ended_at  \\\n",
       "0  000001004784CD35    docked_bike  2020-07-22 15:56:47   \n",
       "1  000002EBE159AE82  electric_bike  2021-06-22 17:31:34   \n",
       "2  00000550C665101A    docked_bike  2020-06-06 16:28:09   \n",
       "3  0000127970C84F62    docked_bike  2020-05-30 06:55:28   \n",
       "4  00001A81D056B01B   classic_bike  2021-04-14 08:19:14   \n",
       "\n",
       "                        start_station_name start_station_id  \\\n",
       "0  Wolcott (Ravenswood) Ave & Montrose Ave              238   \n",
       "1                Clinton St & Jackson Blvd              638   \n",
       "2             Sheffield Ave & Waveland Ave              114   \n",
       "3                    Green St & Madison St              198   \n",
       "4                     Wood St & Hubbard St            13432   \n",
       "\n",
       "               end_station_name end_station_id  start_lat  start_lng  \\\n",
       "0  Southport Ave & Clybourn Ave            307  41.961406 -87.676169   \n",
       "1     Milwaukee Ave & Grand Ave          13033  41.878261 -87.641155   \n",
       "2    Kedzie Ave & Milwaukee Ave            260  41.949399 -87.654529   \n",
       "3         Wells St & Concord Ln            289  41.881900 -87.648800   \n",
       "4           Morgan St & Lake St   TA1306000015  41.889899 -87.671473   \n",
       "\n",
       "     end_lat    end_lng member_casual  day_week_start  duration  distance  \\\n",
       "0  41.920771 -87.663712        casual               4    1824.0  42501.53   \n",
       "1  41.891495 -87.648179        member               3     619.0  14982.48   \n",
       "2  41.929567 -87.707857        casual               7   10808.0  56896.25   \n",
       "3  41.912100 -87.634700        member               7    1892.0  33329.42   \n",
       "4  41.885483 -87.652305        member               4     903.0  19670.18   \n",
       "\n",
       "       hour         day  \n",
       "0  15:38:23  2020-07-22  \n",
       "1  17:25:15  2021-06-22  \n",
       "2  15:20:01  2020-06-06  \n",
       "3  06:36:36  2020-05-30  \n",
       "4  08:10:11  2021-04-14  "
      ]
     },
     "execution_count": 18,
     "metadata": {},
     "output_type": "execute_result"
    }
   ],
   "source": [
    "df.head()"
   ]
  },
  {
   "cell_type": "code",
   "execution_count": 19,
   "metadata": {},
   "outputs": [],
   "source": [
    "df['end_hour'] = pd.to_datetime(df['ended_at']).dt.time"
   ]
  },
  {
   "cell_type": "code",
   "execution_count": 20,
   "metadata": {},
   "outputs": [],
   "source": [
    "df = df.drop(columns='ended_at')"
   ]
  },
  {
   "cell_type": "code",
   "execution_count": 21,
   "metadata": {},
   "outputs": [
    {
     "data": {
      "text/html": [
       "<div>\n",
       "<style scoped>\n",
       "    .dataframe tbody tr th:only-of-type {\n",
       "        vertical-align: middle;\n",
       "    }\n",
       "\n",
       "    .dataframe tbody tr th {\n",
       "        vertical-align: top;\n",
       "    }\n",
       "\n",
       "    .dataframe thead th {\n",
       "        text-align: right;\n",
       "    }\n",
       "</style>\n",
       "<table border=\"1\" class=\"dataframe\">\n",
       "  <thead>\n",
       "    <tr style=\"text-align: right;\">\n",
       "      <th></th>\n",
       "      <th>ride_id</th>\n",
       "      <th>rideable_type</th>\n",
       "      <th>start_station_name</th>\n",
       "      <th>start_station_id</th>\n",
       "      <th>end_station_name</th>\n",
       "      <th>end_station_id</th>\n",
       "      <th>start_lat</th>\n",
       "      <th>start_lng</th>\n",
       "      <th>end_lat</th>\n",
       "      <th>end_lng</th>\n",
       "      <th>member_casual</th>\n",
       "      <th>day_week_start</th>\n",
       "      <th>duration</th>\n",
       "      <th>distance</th>\n",
       "      <th>hour</th>\n",
       "      <th>day</th>\n",
       "      <th>end_hour</th>\n",
       "    </tr>\n",
       "  </thead>\n",
       "  <tbody>\n",
       "    <tr>\n",
       "      <th>0</th>\n",
       "      <td>000001004784CD35</td>\n",
       "      <td>docked_bike</td>\n",
       "      <td>Wolcott (Ravenswood) Ave &amp; Montrose Ave</td>\n",
       "      <td>238</td>\n",
       "      <td>Southport Ave &amp; Clybourn Ave</td>\n",
       "      <td>307</td>\n",
       "      <td>41.961406</td>\n",
       "      <td>-87.676169</td>\n",
       "      <td>41.920771</td>\n",
       "      <td>-87.663712</td>\n",
       "      <td>casual</td>\n",
       "      <td>4</td>\n",
       "      <td>1824.0</td>\n",
       "      <td>42501.53</td>\n",
       "      <td>15:38:23</td>\n",
       "      <td>2020-07-22</td>\n",
       "      <td>15:56:47</td>\n",
       "    </tr>\n",
       "    <tr>\n",
       "      <th>1</th>\n",
       "      <td>000002EBE159AE82</td>\n",
       "      <td>electric_bike</td>\n",
       "      <td>Clinton St &amp; Jackson Blvd</td>\n",
       "      <td>638</td>\n",
       "      <td>Milwaukee Ave &amp; Grand Ave</td>\n",
       "      <td>13033</td>\n",
       "      <td>41.878261</td>\n",
       "      <td>-87.641155</td>\n",
       "      <td>41.891495</td>\n",
       "      <td>-87.648179</td>\n",
       "      <td>member</td>\n",
       "      <td>3</td>\n",
       "      <td>619.0</td>\n",
       "      <td>14982.48</td>\n",
       "      <td>17:25:15</td>\n",
       "      <td>2021-06-22</td>\n",
       "      <td>17:31:34</td>\n",
       "    </tr>\n",
       "    <tr>\n",
       "      <th>2</th>\n",
       "      <td>00000550C665101A</td>\n",
       "      <td>docked_bike</td>\n",
       "      <td>Sheffield Ave &amp; Waveland Ave</td>\n",
       "      <td>114</td>\n",
       "      <td>Kedzie Ave &amp; Milwaukee Ave</td>\n",
       "      <td>260</td>\n",
       "      <td>41.949399</td>\n",
       "      <td>-87.654529</td>\n",
       "      <td>41.929567</td>\n",
       "      <td>-87.707857</td>\n",
       "      <td>casual</td>\n",
       "      <td>7</td>\n",
       "      <td>10808.0</td>\n",
       "      <td>56896.25</td>\n",
       "      <td>15:20:01</td>\n",
       "      <td>2020-06-06</td>\n",
       "      <td>16:28:09</td>\n",
       "    </tr>\n",
       "    <tr>\n",
       "      <th>3</th>\n",
       "      <td>0000127970C84F62</td>\n",
       "      <td>docked_bike</td>\n",
       "      <td>Green St &amp; Madison St</td>\n",
       "      <td>198</td>\n",
       "      <td>Wells St &amp; Concord Ln</td>\n",
       "      <td>289</td>\n",
       "      <td>41.881900</td>\n",
       "      <td>-87.648800</td>\n",
       "      <td>41.912100</td>\n",
       "      <td>-87.634700</td>\n",
       "      <td>member</td>\n",
       "      <td>7</td>\n",
       "      <td>1892.0</td>\n",
       "      <td>33329.42</td>\n",
       "      <td>06:36:36</td>\n",
       "      <td>2020-05-30</td>\n",
       "      <td>06:55:28</td>\n",
       "    </tr>\n",
       "    <tr>\n",
       "      <th>4</th>\n",
       "      <td>00001A81D056B01B</td>\n",
       "      <td>classic_bike</td>\n",
       "      <td>Wood St &amp; Hubbard St</td>\n",
       "      <td>13432</td>\n",
       "      <td>Morgan St &amp; Lake St</td>\n",
       "      <td>TA1306000015</td>\n",
       "      <td>41.889899</td>\n",
       "      <td>-87.671473</td>\n",
       "      <td>41.885483</td>\n",
       "      <td>-87.652305</td>\n",
       "      <td>member</td>\n",
       "      <td>4</td>\n",
       "      <td>903.0</td>\n",
       "      <td>19670.18</td>\n",
       "      <td>08:10:11</td>\n",
       "      <td>2021-04-14</td>\n",
       "      <td>08:19:14</td>\n",
       "    </tr>\n",
       "  </tbody>\n",
       "</table>\n",
       "</div>"
      ],
      "text/plain": [
       "            ride_id  rideable_type                       start_station_name  \\\n",
       "0  000001004784CD35    docked_bike  Wolcott (Ravenswood) Ave & Montrose Ave   \n",
       "1  000002EBE159AE82  electric_bike                Clinton St & Jackson Blvd   \n",
       "2  00000550C665101A    docked_bike             Sheffield Ave & Waveland Ave   \n",
       "3  0000127970C84F62    docked_bike                    Green St & Madison St   \n",
       "4  00001A81D056B01B   classic_bike                     Wood St & Hubbard St   \n",
       "\n",
       "  start_station_id              end_station_name end_station_id  start_lat  \\\n",
       "0              238  Southport Ave & Clybourn Ave            307  41.961406   \n",
       "1              638     Milwaukee Ave & Grand Ave          13033  41.878261   \n",
       "2              114    Kedzie Ave & Milwaukee Ave            260  41.949399   \n",
       "3              198         Wells St & Concord Ln            289  41.881900   \n",
       "4            13432           Morgan St & Lake St   TA1306000015  41.889899   \n",
       "\n",
       "   start_lng    end_lat    end_lng member_casual  day_week_start  duration  \\\n",
       "0 -87.676169  41.920771 -87.663712        casual               4    1824.0   \n",
       "1 -87.641155  41.891495 -87.648179        member               3     619.0   \n",
       "2 -87.654529  41.929567 -87.707857        casual               7   10808.0   \n",
       "3 -87.648800  41.912100 -87.634700        member               7    1892.0   \n",
       "4 -87.671473  41.885483 -87.652305        member               4     903.0   \n",
       "\n",
       "   distance      hour         day  end_hour  \n",
       "0  42501.53  15:38:23  2020-07-22  15:56:47  \n",
       "1  14982.48  17:25:15  2021-06-22  17:31:34  \n",
       "2  56896.25  15:20:01  2020-06-06  16:28:09  \n",
       "3  33329.42  06:36:36  2020-05-30  06:55:28  \n",
       "4  19670.18  08:10:11  2021-04-14  08:19:14  "
      ]
     },
     "execution_count": 21,
     "metadata": {},
     "output_type": "execute_result"
    }
   ],
   "source": [
    "df.head()"
   ]
  },
  {
   "cell_type": "code",
   "execution_count": 22,
   "metadata": {},
   "outputs": [],
   "source": [
    "df_final = df[['ride_id','rideable_type','start_station_name','end_station_name','member_casual','duration','distance','day_week_start','day','hour']]"
   ]
  },
  {
   "cell_type": "code",
   "execution_count": 23,
   "metadata": {},
   "outputs": [
    {
     "data": {
      "text/html": [
       "<div>\n",
       "<style scoped>\n",
       "    .dataframe tbody tr th:only-of-type {\n",
       "        vertical-align: middle;\n",
       "    }\n",
       "\n",
       "    .dataframe tbody tr th {\n",
       "        vertical-align: top;\n",
       "    }\n",
       "\n",
       "    .dataframe thead th {\n",
       "        text-align: right;\n",
       "    }\n",
       "</style>\n",
       "<table border=\"1\" class=\"dataframe\">\n",
       "  <thead>\n",
       "    <tr style=\"text-align: right;\">\n",
       "      <th></th>\n",
       "      <th>ride_id</th>\n",
       "      <th>rideable_type</th>\n",
       "      <th>start_station_name</th>\n",
       "      <th>end_station_name</th>\n",
       "      <th>member_casual</th>\n",
       "      <th>duration</th>\n",
       "      <th>distance</th>\n",
       "      <th>day_week_start</th>\n",
       "      <th>day</th>\n",
       "      <th>hour</th>\n",
       "    </tr>\n",
       "  </thead>\n",
       "  <tbody>\n",
       "    <tr>\n",
       "      <th>0</th>\n",
       "      <td>000001004784CD35</td>\n",
       "      <td>docked_bike</td>\n",
       "      <td>Wolcott (Ravenswood) Ave &amp; Montrose Ave</td>\n",
       "      <td>Southport Ave &amp; Clybourn Ave</td>\n",
       "      <td>casual</td>\n",
       "      <td>1824.0</td>\n",
       "      <td>42501.53</td>\n",
       "      <td>4</td>\n",
       "      <td>2020-07-22</td>\n",
       "      <td>15:38:23</td>\n",
       "    </tr>\n",
       "    <tr>\n",
       "      <th>1</th>\n",
       "      <td>000002EBE159AE82</td>\n",
       "      <td>electric_bike</td>\n",
       "      <td>Clinton St &amp; Jackson Blvd</td>\n",
       "      <td>Milwaukee Ave &amp; Grand Ave</td>\n",
       "      <td>member</td>\n",
       "      <td>619.0</td>\n",
       "      <td>14982.48</td>\n",
       "      <td>3</td>\n",
       "      <td>2021-06-22</td>\n",
       "      <td>17:25:15</td>\n",
       "    </tr>\n",
       "    <tr>\n",
       "      <th>2</th>\n",
       "      <td>00000550C665101A</td>\n",
       "      <td>docked_bike</td>\n",
       "      <td>Sheffield Ave &amp; Waveland Ave</td>\n",
       "      <td>Kedzie Ave &amp; Milwaukee Ave</td>\n",
       "      <td>casual</td>\n",
       "      <td>10808.0</td>\n",
       "      <td>56896.25</td>\n",
       "      <td>7</td>\n",
       "      <td>2020-06-06</td>\n",
       "      <td>15:20:01</td>\n",
       "    </tr>\n",
       "    <tr>\n",
       "      <th>3</th>\n",
       "      <td>0000127970C84F62</td>\n",
       "      <td>docked_bike</td>\n",
       "      <td>Green St &amp; Madison St</td>\n",
       "      <td>Wells St &amp; Concord Ln</td>\n",
       "      <td>member</td>\n",
       "      <td>1892.0</td>\n",
       "      <td>33329.42</td>\n",
       "      <td>7</td>\n",
       "      <td>2020-05-30</td>\n",
       "      <td>06:36:36</td>\n",
       "    </tr>\n",
       "    <tr>\n",
       "      <th>4</th>\n",
       "      <td>00001A81D056B01B</td>\n",
       "      <td>classic_bike</td>\n",
       "      <td>Wood St &amp; Hubbard St</td>\n",
       "      <td>Morgan St &amp; Lake St</td>\n",
       "      <td>member</td>\n",
       "      <td>903.0</td>\n",
       "      <td>19670.18</td>\n",
       "      <td>4</td>\n",
       "      <td>2021-04-14</td>\n",
       "      <td>08:10:11</td>\n",
       "    </tr>\n",
       "  </tbody>\n",
       "</table>\n",
       "</div>"
      ],
      "text/plain": [
       "            ride_id  rideable_type                       start_station_name  \\\n",
       "0  000001004784CD35    docked_bike  Wolcott (Ravenswood) Ave & Montrose Ave   \n",
       "1  000002EBE159AE82  electric_bike                Clinton St & Jackson Blvd   \n",
       "2  00000550C665101A    docked_bike             Sheffield Ave & Waveland Ave   \n",
       "3  0000127970C84F62    docked_bike                    Green St & Madison St   \n",
       "4  00001A81D056B01B   classic_bike                     Wood St & Hubbard St   \n",
       "\n",
       "               end_station_name member_casual  duration  distance  \\\n",
       "0  Southport Ave & Clybourn Ave        casual    1824.0  42501.53   \n",
       "1     Milwaukee Ave & Grand Ave        member     619.0  14982.48   \n",
       "2    Kedzie Ave & Milwaukee Ave        casual   10808.0  56896.25   \n",
       "3         Wells St & Concord Ln        member    1892.0  33329.42   \n",
       "4           Morgan St & Lake St        member     903.0  19670.18   \n",
       "\n",
       "   day_week_start         day      hour  \n",
       "0               4  2020-07-22  15:38:23  \n",
       "1               3  2021-06-22  17:25:15  \n",
       "2               7  2020-06-06  15:20:01  \n",
       "3               7  2020-05-30  06:36:36  \n",
       "4               4  2021-04-14  08:10:11  "
      ]
     },
     "execution_count": 23,
     "metadata": {},
     "output_type": "execute_result"
    }
   ],
   "source": [
    "df_final.head()"
   ]
  },
  {
   "cell_type": "markdown",
   "metadata": {},
   "source": [
    "## Convert categorical variable, member_casual, into indicator variables or dummy"
   ]
  },
  {
   "cell_type": "code",
   "execution_count": 24,
   "metadata": {},
   "outputs": [],
   "source": [
    "member_subset = df_final[['rideable_type','member_casual', 'distance']]"
   ]
  },
  {
   "cell_type": "code",
   "execution_count": 25,
   "metadata": {},
   "outputs": [],
   "source": [
    "member_dummies = pd.get_dummies(member_subset.member_casual, prefix='member_casual') \n",
    "ds = pd.concat([member_subset, member_dummies], axis = 1)"
   ]
  },
  {
   "cell_type": "code",
   "execution_count": 26,
   "metadata": {},
   "outputs": [
    {
     "data": {
      "text/html": [
       "<div>\n",
       "<style scoped>\n",
       "    .dataframe tbody tr th:only-of-type {\n",
       "        vertical-align: middle;\n",
       "    }\n",
       "\n",
       "    .dataframe tbody tr th {\n",
       "        vertical-align: top;\n",
       "    }\n",
       "\n",
       "    .dataframe thead th {\n",
       "        text-align: right;\n",
       "    }\n",
       "</style>\n",
       "<table border=\"1\" class=\"dataframe\">\n",
       "  <thead>\n",
       "    <tr style=\"text-align: right;\">\n",
       "      <th></th>\n",
       "      <th>rideable_type</th>\n",
       "      <th>member_casual</th>\n",
       "      <th>distance</th>\n",
       "      <th>member_casual_casual</th>\n",
       "      <th>member_casual_member</th>\n",
       "    </tr>\n",
       "  </thead>\n",
       "  <tbody>\n",
       "    <tr>\n",
       "      <th>0</th>\n",
       "      <td>docked_bike</td>\n",
       "      <td>casual</td>\n",
       "      <td>42501.53</td>\n",
       "      <td>1</td>\n",
       "      <td>0</td>\n",
       "    </tr>\n",
       "    <tr>\n",
       "      <th>1</th>\n",
       "      <td>electric_bike</td>\n",
       "      <td>member</td>\n",
       "      <td>14982.48</td>\n",
       "      <td>0</td>\n",
       "      <td>1</td>\n",
       "    </tr>\n",
       "    <tr>\n",
       "      <th>2</th>\n",
       "      <td>docked_bike</td>\n",
       "      <td>casual</td>\n",
       "      <td>56896.25</td>\n",
       "      <td>1</td>\n",
       "      <td>0</td>\n",
       "    </tr>\n",
       "    <tr>\n",
       "      <th>3</th>\n",
       "      <td>docked_bike</td>\n",
       "      <td>member</td>\n",
       "      <td>33329.42</td>\n",
       "      <td>0</td>\n",
       "      <td>1</td>\n",
       "    </tr>\n",
       "    <tr>\n",
       "      <th>4</th>\n",
       "      <td>classic_bike</td>\n",
       "      <td>member</td>\n",
       "      <td>19670.18</td>\n",
       "      <td>0</td>\n",
       "      <td>1</td>\n",
       "    </tr>\n",
       "    <tr>\n",
       "      <th>...</th>\n",
       "      <td>...</td>\n",
       "      <td>...</td>\n",
       "      <td>...</td>\n",
       "      <td>...</td>\n",
       "      <td>...</td>\n",
       "    </tr>\n",
       "    <tr>\n",
       "      <th>5515089</th>\n",
       "      <td>docked_bike</td>\n",
       "      <td>member</td>\n",
       "      <td>46660.08</td>\n",
       "      <td>0</td>\n",
       "      <td>1</td>\n",
       "    </tr>\n",
       "    <tr>\n",
       "      <th>5515090</th>\n",
       "      <td>docked_bike</td>\n",
       "      <td>member</td>\n",
       "      <td>8525.92</td>\n",
       "      <td>0</td>\n",
       "      <td>1</td>\n",
       "    </tr>\n",
       "    <tr>\n",
       "      <th>5515091</th>\n",
       "      <td>classic_bike</td>\n",
       "      <td>member</td>\n",
       "      <td>63716.35</td>\n",
       "      <td>0</td>\n",
       "      <td>1</td>\n",
       "    </tr>\n",
       "    <tr>\n",
       "      <th>5515092</th>\n",
       "      <td>electric_bike</td>\n",
       "      <td>member</td>\n",
       "      <td>105891.78</td>\n",
       "      <td>0</td>\n",
       "      <td>1</td>\n",
       "    </tr>\n",
       "    <tr>\n",
       "      <th>5515093</th>\n",
       "      <td>NaN</td>\n",
       "      <td>NaN</td>\n",
       "      <td>NaN</td>\n",
       "      <td>0</td>\n",
       "      <td>0</td>\n",
       "    </tr>\n",
       "  </tbody>\n",
       "</table>\n",
       "<p>5515094 rows × 5 columns</p>\n",
       "</div>"
      ],
      "text/plain": [
       "         rideable_type member_casual   distance  member_casual_casual  \\\n",
       "0          docked_bike        casual   42501.53                     1   \n",
       "1        electric_bike        member   14982.48                     0   \n",
       "2          docked_bike        casual   56896.25                     1   \n",
       "3          docked_bike        member   33329.42                     0   \n",
       "4         classic_bike        member   19670.18                     0   \n",
       "...                ...           ...        ...                   ...   \n",
       "5515089    docked_bike        member   46660.08                     0   \n",
       "5515090    docked_bike        member    8525.92                     0   \n",
       "5515091   classic_bike        member   63716.35                     0   \n",
       "5515092  electric_bike        member  105891.78                     0   \n",
       "5515093            NaN           NaN        NaN                     0   \n",
       "\n",
       "         member_casual_member  \n",
       "0                           0  \n",
       "1                           1  \n",
       "2                           0  \n",
       "3                           1  \n",
       "4                           1  \n",
       "...                       ...  \n",
       "5515089                     1  \n",
       "5515090                     1  \n",
       "5515091                     1  \n",
       "5515092                     1  \n",
       "5515093                     0  \n",
       "\n",
       "[5515094 rows x 5 columns]"
      ]
     },
     "execution_count": 26,
     "metadata": {},
     "output_type": "execute_result"
    }
   ],
   "source": [
    "ds"
   ]
  },
  {
   "cell_type": "code",
   "execution_count": 27,
   "metadata": {},
   "outputs": [],
   "source": [
    "ds = ds[ds['member_casual'].notna()]"
   ]
  },
  {
   "cell_type": "code",
   "execution_count": 28,
   "metadata": {},
   "outputs": [
    {
     "data": {
      "text/html": [
       "<div>\n",
       "<style scoped>\n",
       "    .dataframe tbody tr th:only-of-type {\n",
       "        vertical-align: middle;\n",
       "    }\n",
       "\n",
       "    .dataframe tbody tr th {\n",
       "        vertical-align: top;\n",
       "    }\n",
       "\n",
       "    .dataframe thead th {\n",
       "        text-align: right;\n",
       "    }\n",
       "</style>\n",
       "<table border=\"1\" class=\"dataframe\">\n",
       "  <thead>\n",
       "    <tr style=\"text-align: right;\">\n",
       "      <th></th>\n",
       "      <th>rideable_type</th>\n",
       "      <th>member_casual</th>\n",
       "      <th>distance</th>\n",
       "      <th>member_casual_casual</th>\n",
       "      <th>member_casual_member</th>\n",
       "    </tr>\n",
       "  </thead>\n",
       "  <tbody>\n",
       "    <tr>\n",
       "      <th>0</th>\n",
       "      <td>docked_bike</td>\n",
       "      <td>casual</td>\n",
       "      <td>42501.53</td>\n",
       "      <td>1</td>\n",
       "      <td>0</td>\n",
       "    </tr>\n",
       "    <tr>\n",
       "      <th>1</th>\n",
       "      <td>electric_bike</td>\n",
       "      <td>member</td>\n",
       "      <td>14982.48</td>\n",
       "      <td>0</td>\n",
       "      <td>1</td>\n",
       "    </tr>\n",
       "    <tr>\n",
       "      <th>2</th>\n",
       "      <td>docked_bike</td>\n",
       "      <td>casual</td>\n",
       "      <td>56896.25</td>\n",
       "      <td>1</td>\n",
       "      <td>0</td>\n",
       "    </tr>\n",
       "    <tr>\n",
       "      <th>3</th>\n",
       "      <td>docked_bike</td>\n",
       "      <td>member</td>\n",
       "      <td>33329.42</td>\n",
       "      <td>0</td>\n",
       "      <td>1</td>\n",
       "    </tr>\n",
       "    <tr>\n",
       "      <th>4</th>\n",
       "      <td>classic_bike</td>\n",
       "      <td>member</td>\n",
       "      <td>19670.18</td>\n",
       "      <td>0</td>\n",
       "      <td>1</td>\n",
       "    </tr>\n",
       "    <tr>\n",
       "      <th>...</th>\n",
       "      <td>...</td>\n",
       "      <td>...</td>\n",
       "      <td>...</td>\n",
       "      <td>...</td>\n",
       "      <td>...</td>\n",
       "    </tr>\n",
       "    <tr>\n",
       "      <th>5515088</th>\n",
       "      <td>docked_bike</td>\n",
       "      <td>member</td>\n",
       "      <td>45394.79</td>\n",
       "      <td>0</td>\n",
       "      <td>1</td>\n",
       "    </tr>\n",
       "    <tr>\n",
       "      <th>5515089</th>\n",
       "      <td>docked_bike</td>\n",
       "      <td>member</td>\n",
       "      <td>46660.08</td>\n",
       "      <td>0</td>\n",
       "      <td>1</td>\n",
       "    </tr>\n",
       "    <tr>\n",
       "      <th>5515090</th>\n",
       "      <td>docked_bike</td>\n",
       "      <td>member</td>\n",
       "      <td>8525.92</td>\n",
       "      <td>0</td>\n",
       "      <td>1</td>\n",
       "    </tr>\n",
       "    <tr>\n",
       "      <th>5515091</th>\n",
       "      <td>classic_bike</td>\n",
       "      <td>member</td>\n",
       "      <td>63716.35</td>\n",
       "      <td>0</td>\n",
       "      <td>1</td>\n",
       "    </tr>\n",
       "    <tr>\n",
       "      <th>5515092</th>\n",
       "      <td>electric_bike</td>\n",
       "      <td>member</td>\n",
       "      <td>105891.78</td>\n",
       "      <td>0</td>\n",
       "      <td>1</td>\n",
       "    </tr>\n",
       "  </tbody>\n",
       "</table>\n",
       "<p>5515093 rows × 5 columns</p>\n",
       "</div>"
      ],
      "text/plain": [
       "         rideable_type member_casual   distance  member_casual_casual  \\\n",
       "0          docked_bike        casual   42501.53                     1   \n",
       "1        electric_bike        member   14982.48                     0   \n",
       "2          docked_bike        casual   56896.25                     1   \n",
       "3          docked_bike        member   33329.42                     0   \n",
       "4         classic_bike        member   19670.18                     0   \n",
       "...                ...           ...        ...                   ...   \n",
       "5515088    docked_bike        member   45394.79                     0   \n",
       "5515089    docked_bike        member   46660.08                     0   \n",
       "5515090    docked_bike        member    8525.92                     0   \n",
       "5515091   classic_bike        member   63716.35                     0   \n",
       "5515092  electric_bike        member  105891.78                     0   \n",
       "\n",
       "         member_casual_member  \n",
       "0                           0  \n",
       "1                           1  \n",
       "2                           0  \n",
       "3                           1  \n",
       "4                           1  \n",
       "...                       ...  \n",
       "5515088                     1  \n",
       "5515089                     1  \n",
       "5515090                     1  \n",
       "5515091                     1  \n",
       "5515092                     1  \n",
       "\n",
       "[5515093 rows x 5 columns]"
      ]
     },
     "execution_count": 28,
     "metadata": {},
     "output_type": "execute_result"
    }
   ],
   "source": [
    "ds"
   ]
  },
  {
   "cell_type": "code",
   "execution_count": 29,
   "metadata": {},
   "outputs": [
    {
     "data": {
      "text/html": [
       "<div>\n",
       "<style scoped>\n",
       "    .dataframe tbody tr th:only-of-type {\n",
       "        vertical-align: middle;\n",
       "    }\n",
       "\n",
       "    .dataframe tbody tr th {\n",
       "        vertical-align: top;\n",
       "    }\n",
       "\n",
       "    .dataframe thead th {\n",
       "        text-align: right;\n",
       "    }\n",
       "</style>\n",
       "<table border=\"1\" class=\"dataframe\">\n",
       "  <thead>\n",
       "    <tr style=\"text-align: right;\">\n",
       "      <th></th>\n",
       "      <th>rideable_type</th>\n",
       "      <th>member_casual</th>\n",
       "      <th>distance</th>\n",
       "      <th>member_casual_casual</th>\n",
       "      <th>member_casual_member</th>\n",
       "      <th>rideable_type_docked_bike</th>\n",
       "      <th>rideable_type_electric_bike</th>\n",
       "    </tr>\n",
       "  </thead>\n",
       "  <tbody>\n",
       "    <tr>\n",
       "      <th>0</th>\n",
       "      <td>docked_bike</td>\n",
       "      <td>casual</td>\n",
       "      <td>42501.53</td>\n",
       "      <td>1</td>\n",
       "      <td>0</td>\n",
       "      <td>1</td>\n",
       "      <td>0</td>\n",
       "    </tr>\n",
       "    <tr>\n",
       "      <th>1</th>\n",
       "      <td>electric_bike</td>\n",
       "      <td>member</td>\n",
       "      <td>14982.48</td>\n",
       "      <td>0</td>\n",
       "      <td>1</td>\n",
       "      <td>0</td>\n",
       "      <td>1</td>\n",
       "    </tr>\n",
       "    <tr>\n",
       "      <th>2</th>\n",
       "      <td>docked_bike</td>\n",
       "      <td>casual</td>\n",
       "      <td>56896.25</td>\n",
       "      <td>1</td>\n",
       "      <td>0</td>\n",
       "      <td>1</td>\n",
       "      <td>0</td>\n",
       "    </tr>\n",
       "    <tr>\n",
       "      <th>3</th>\n",
       "      <td>docked_bike</td>\n",
       "      <td>member</td>\n",
       "      <td>33329.42</td>\n",
       "      <td>0</td>\n",
       "      <td>1</td>\n",
       "      <td>1</td>\n",
       "      <td>0</td>\n",
       "    </tr>\n",
       "    <tr>\n",
       "      <th>4</th>\n",
       "      <td>classic_bike</td>\n",
       "      <td>member</td>\n",
       "      <td>19670.18</td>\n",
       "      <td>0</td>\n",
       "      <td>1</td>\n",
       "      <td>0</td>\n",
       "      <td>0</td>\n",
       "    </tr>\n",
       "  </tbody>\n",
       "</table>\n",
       "</div>"
      ],
      "text/plain": [
       "   rideable_type member_casual  distance  member_casual_casual  \\\n",
       "0    docked_bike        casual  42501.53                     1   \n",
       "1  electric_bike        member  14982.48                     0   \n",
       "2    docked_bike        casual  56896.25                     1   \n",
       "3    docked_bike        member  33329.42                     0   \n",
       "4   classic_bike        member  19670.18                     0   \n",
       "\n",
       "   member_casual_member  rideable_type_docked_bike  \\\n",
       "0                     0                          1   \n",
       "1                     1                          0   \n",
       "2                     0                          1   \n",
       "3                     1                          1   \n",
       "4                     1                          0   \n",
       "\n",
       "   rideable_type_electric_bike  \n",
       "0                            0  \n",
       "1                            1  \n",
       "2                            0  \n",
       "3                            0  \n",
       "4                            0  "
      ]
     },
     "execution_count": 29,
     "metadata": {},
     "output_type": "execute_result"
    }
   ],
   "source": [
    "# Do the same thing for rideable_type\n",
    "ride_dummies = pd.get_dummies(ds.rideable_type, prefix='rideable_type', drop_first=True) \n",
    "ds = pd.concat([ds, ride_dummies], axis = 1)\n",
    "ds.head()"
   ]
  },
  {
   "cell_type": "code",
   "execution_count": 30,
   "metadata": {},
   "outputs": [
    {
     "data": {
      "text/plain": [
       "array([1, 0], dtype=uint8)"
      ]
     },
     "execution_count": 30,
     "metadata": {},
     "output_type": "execute_result"
    }
   ],
   "source": [
    "ds['rideable_type_docked_bike'].unique()"
   ]
  },
  {
   "cell_type": "code",
   "execution_count": 31,
   "metadata": {},
   "outputs": [],
   "source": [
    "ds_ = ds.head(10)"
   ]
  },
  {
   "cell_type": "code",
   "execution_count": 32,
   "metadata": {},
   "outputs": [
    {
     "data": {
      "text/html": [
       "<div>\n",
       "<style scoped>\n",
       "    .dataframe tbody tr th:only-of-type {\n",
       "        vertical-align: middle;\n",
       "    }\n",
       "\n",
       "    .dataframe tbody tr th {\n",
       "        vertical-align: top;\n",
       "    }\n",
       "\n",
       "    .dataframe thead th {\n",
       "        text-align: right;\n",
       "    }\n",
       "</style>\n",
       "<table border=\"1\" class=\"dataframe\">\n",
       "  <thead>\n",
       "    <tr style=\"text-align: right;\">\n",
       "      <th></th>\n",
       "      <th>rideable_type</th>\n",
       "      <th>member_casual</th>\n",
       "      <th>distance</th>\n",
       "      <th>member_casual_casual</th>\n",
       "      <th>member_casual_member</th>\n",
       "      <th>rideable_type_docked_bike</th>\n",
       "      <th>rideable_type_electric_bike</th>\n",
       "    </tr>\n",
       "  </thead>\n",
       "  <tbody>\n",
       "    <tr>\n",
       "      <th>0</th>\n",
       "      <td>docked_bike</td>\n",
       "      <td>casual</td>\n",
       "      <td>42501.53</td>\n",
       "      <td>1</td>\n",
       "      <td>0</td>\n",
       "      <td>1</td>\n",
       "      <td>0</td>\n",
       "    </tr>\n",
       "    <tr>\n",
       "      <th>1</th>\n",
       "      <td>electric_bike</td>\n",
       "      <td>member</td>\n",
       "      <td>14982.48</td>\n",
       "      <td>0</td>\n",
       "      <td>1</td>\n",
       "      <td>0</td>\n",
       "      <td>1</td>\n",
       "    </tr>\n",
       "    <tr>\n",
       "      <th>2</th>\n",
       "      <td>docked_bike</td>\n",
       "      <td>casual</td>\n",
       "      <td>56896.25</td>\n",
       "      <td>1</td>\n",
       "      <td>0</td>\n",
       "      <td>1</td>\n",
       "      <td>0</td>\n",
       "    </tr>\n",
       "    <tr>\n",
       "      <th>3</th>\n",
       "      <td>docked_bike</td>\n",
       "      <td>member</td>\n",
       "      <td>33329.42</td>\n",
       "      <td>0</td>\n",
       "      <td>1</td>\n",
       "      <td>1</td>\n",
       "      <td>0</td>\n",
       "    </tr>\n",
       "    <tr>\n",
       "      <th>4</th>\n",
       "      <td>classic_bike</td>\n",
       "      <td>member</td>\n",
       "      <td>19670.18</td>\n",
       "      <td>0</td>\n",
       "      <td>1</td>\n",
       "      <td>0</td>\n",
       "      <td>0</td>\n",
       "    </tr>\n",
       "  </tbody>\n",
       "</table>\n",
       "</div>"
      ],
      "text/plain": [
       "   rideable_type member_casual  distance  member_casual_casual  \\\n",
       "0    docked_bike        casual  42501.53                     1   \n",
       "1  electric_bike        member  14982.48                     0   \n",
       "2    docked_bike        casual  56896.25                     1   \n",
       "3    docked_bike        member  33329.42                     0   \n",
       "4   classic_bike        member  19670.18                     0   \n",
       "\n",
       "   member_casual_member  rideable_type_docked_bike  \\\n",
       "0                     0                          1   \n",
       "1                     1                          0   \n",
       "2                     0                          1   \n",
       "3                     1                          1   \n",
       "4                     1                          0   \n",
       "\n",
       "   rideable_type_electric_bike  \n",
       "0                            0  \n",
       "1                            1  \n",
       "2                            0  \n",
       "3                            0  \n",
       "4                            0  "
      ]
     },
     "execution_count": 32,
     "metadata": {},
     "output_type": "execute_result"
    }
   ],
   "source": [
    "ds_.head()"
   ]
  },
  {
   "cell_type": "markdown",
   "metadata": {},
   "source": [
    "## Get the numerical values into new dataset"
   ]
  },
  {
   "cell_type": "code",
   "execution_count": 33,
   "metadata": {},
   "outputs": [
    {
     "data": {
      "text/html": [
       "<div>\n",
       "<style scoped>\n",
       "    .dataframe tbody tr th:only-of-type {\n",
       "        vertical-align: middle;\n",
       "    }\n",
       "\n",
       "    .dataframe tbody tr th {\n",
       "        vertical-align: top;\n",
       "    }\n",
       "\n",
       "    .dataframe thead th {\n",
       "        text-align: right;\n",
       "    }\n",
       "</style>\n",
       "<table border=\"1\" class=\"dataframe\">\n",
       "  <thead>\n",
       "    <tr style=\"text-align: right;\">\n",
       "      <th></th>\n",
       "      <th>distance</th>\n",
       "    </tr>\n",
       "  </thead>\n",
       "  <tbody>\n",
       "    <tr>\n",
       "      <th>0</th>\n",
       "      <td>42501.53</td>\n",
       "    </tr>\n",
       "    <tr>\n",
       "      <th>1</th>\n",
       "      <td>14982.48</td>\n",
       "    </tr>\n",
       "    <tr>\n",
       "      <th>2</th>\n",
       "      <td>56896.25</td>\n",
       "    </tr>\n",
       "    <tr>\n",
       "      <th>3</th>\n",
       "      <td>33329.42</td>\n",
       "    </tr>\n",
       "    <tr>\n",
       "      <th>4</th>\n",
       "      <td>19670.18</td>\n",
       "    </tr>\n",
       "  </tbody>\n",
       "</table>\n",
       "</div>"
      ],
      "text/plain": [
       "   distance\n",
       "0  42501.53\n",
       "1  14982.48\n",
       "2  56896.25\n",
       "3  33329.42\n",
       "4  19670.18"
      ]
     },
     "execution_count": 33,
     "metadata": {},
     "output_type": "execute_result"
    }
   ],
   "source": [
    "num_set = ds.select_dtypes(include=['int', 'float'])\n",
    "num_set.head()"
   ]
  },
  {
   "cell_type": "code",
   "execution_count": 34,
   "metadata": {},
   "outputs": [],
   "source": [
    "data = ds_[['distance','member_casual_casual','member_casual_member','rideable_type_docked_bike','rideable_type_electric_bike']]"
   ]
  },
  {
   "cell_type": "code",
   "execution_count": 38,
   "metadata": {},
   "outputs": [],
   "source": [
    "# split into inputs and outputs\n",
    "X, y = data.iloc[:, :-1], ds_.iloc[:, -1]"
   ]
  },
  {
   "cell_type": "code",
   "execution_count": 39,
   "metadata": {},
   "outputs": [
    {
     "name": "stdout",
     "output_type": "stream",
     "text": [
      "(10, 4) (10,)\n"
     ]
    }
   ],
   "source": [
    "print(X.shape, y.shape)"
   ]
  },
  {
   "cell_type": "markdown",
   "metadata": {},
   "source": [
    "## Splitting data into train and test set"
   ]
  },
  {
   "cell_type": "code",
   "execution_count": 40,
   "metadata": {},
   "outputs": [
    {
     "name": "stdout",
     "output_type": "stream",
     "text": [
      "(6, 4) (4, 4) (6,) (4,)\n"
     ]
    }
   ],
   "source": [
    "from sklearn.datasets import make_blobs\n",
    "from sklearn.model_selection import train_test_split\n",
    "\n",
    "# split into train test sets\n",
    "X_train, X_test, y_train, y_test = train_test_split(X, y, test_size=0.33, random_state=1)\n",
    "print(X_train.shape, X_test.shape, y_train.shape, y_test.shape)"
   ]
  },
  {
   "cell_type": "code",
   "execution_count": 41,
   "metadata": {},
   "outputs": [
    {
     "data": {
      "text/plain": [
       "RandomForestRegressor(random_state=1)"
      ]
     },
     "execution_count": 41,
     "metadata": {},
     "output_type": "execute_result"
    }
   ],
   "source": [
    "from sklearn.ensemble import RandomForestRegressor\n",
    "# fit the model\n",
    "model = RandomForestRegressor(random_state=1)\n",
    "model.fit(X_train, y_train)"
   ]
  },
  {
   "cell_type": "code",
   "execution_count": 43,
   "metadata": {},
   "outputs": [],
   "source": [
    "# make predictions\n",
    "y_hat = model.predict(X_test)"
   ]
  },
  {
   "cell_type": "code",
   "execution_count": 44,
   "metadata": {},
   "outputs": [
    {
     "data": {
      "text/plain": [
       "<AxesSubplot:xlabel='rideable_type_electric_bike', ylabel='Density'>"
      ]
     },
     "execution_count": 44,
     "metadata": {},
     "output_type": "execute_result"
    },
    {
     "data": {
      "image/png": "[encoded data removed]",
      "text/plain": [
       "<Figure size 432x288 with 1 Axes>"
      ]
     },
     "metadata": {
      "needs_background": "light"
     },
     "output_type": "display_data"
    }
   ],
   "source": [
    "sns.distplot(y_hat-y_test)"
   ]
  },
  {
   "cell_type": "markdown",
   "metadata": {},
   "source": [
    "## Using Standard Scaler on numeric features "
   ]
  },
  {
   "cell_type": "code",
   "execution_count": 45,
   "metadata": {},
   "outputs": [
    {
     "data": {
      "text/html": [
       "<div>\n",
       "<style scoped>\n",
       "    .dataframe tbody tr th:only-of-type {\n",
       "        vertical-align: middle;\n",
       "    }\n",
       "\n",
       "    .dataframe tbody tr th {\n",
       "        vertical-align: top;\n",
       "    }\n",
       "\n",
       "    .dataframe thead th {\n",
       "        text-align: right;\n",
       "    }\n",
       "</style>\n",
       "<table border=\"1\" class=\"dataframe\">\n",
       "  <thead>\n",
       "    <tr style=\"text-align: right;\">\n",
       "      <th></th>\n",
       "      <th>rideable_type</th>\n",
       "      <th>distance</th>\n",
       "      <th>day_week_start</th>\n",
       "    </tr>\n",
       "  </thead>\n",
       "  <tbody>\n",
       "    <tr>\n",
       "      <th>0</th>\n",
       "      <td>docked_bike</td>\n",
       "      <td>42501.53</td>\n",
       "      <td>4</td>\n",
       "    </tr>\n",
       "    <tr>\n",
       "      <th>1</th>\n",
       "      <td>electric_bike</td>\n",
       "      <td>14982.48</td>\n",
       "      <td>3</td>\n",
       "    </tr>\n",
       "    <tr>\n",
       "      <th>2</th>\n",
       "      <td>docked_bike</td>\n",
       "      <td>56896.25</td>\n",
       "      <td>7</td>\n",
       "    </tr>\n",
       "    <tr>\n",
       "      <th>3</th>\n",
       "      <td>docked_bike</td>\n",
       "      <td>33329.42</td>\n",
       "      <td>7</td>\n",
       "    </tr>\n",
       "    <tr>\n",
       "      <th>4</th>\n",
       "      <td>classic_bike</td>\n",
       "      <td>19670.18</td>\n",
       "      <td>4</td>\n",
       "    </tr>\n",
       "  </tbody>\n",
       "</table>\n",
       "</div>"
      ],
      "text/plain": [
       "   rideable_type  distance  day_week_start\n",
       "0    docked_bike  42501.53               4\n",
       "1  electric_bike  14982.48               3\n",
       "2    docked_bike  56896.25               7\n",
       "3    docked_bike  33329.42               7\n",
       "4   classic_bike  19670.18               4"
      ]
     },
     "execution_count": 45,
     "metadata": {},
     "output_type": "execute_result"
    }
   ],
   "source": [
    "# use df_final to create subset called \n",
    "\n",
    "num_subset = df_final[['rideable_type','distance','day_week_start']]\n",
    "num_subset.head()"
   ]
  },
  {
   "cell_type": "code",
   "execution_count": 46,
   "metadata": {},
   "outputs": [
    {
     "data": {
      "text/plain": [
       "rideable_type     1\n",
       "distance          1\n",
       "day_week_start    0\n",
       "dtype: int64"
      ]
     },
     "execution_count": 46,
     "metadata": {},
     "output_type": "execute_result"
    }
   ],
   "source": [
    "num_subset.isnull().sum()"
   ]
  },
  {
   "cell_type": "code",
   "execution_count": 50,
   "metadata": {},
   "outputs": [],
   "source": [
    "num_subset = num_subset[num_subset['rideable_type'].notna()]"
   ]
  },
  {
   "cell_type": "code",
   "execution_count": 51,
   "metadata": {},
   "outputs": [
    {
     "data": {
      "text/plain": [
       "rideable_type     0\n",
       "distance          0\n",
       "day_week_start    0\n",
       "dtype: int64"
      ]
     },
     "execution_count": 51,
     "metadata": {},
     "output_type": "execute_result"
    }
   ],
   "source": [
    "num_subset.isnull().sum()"
   ]
  },
  {
   "cell_type": "markdown",
   "metadata": {},
   "source": [
    "### Splitting data into train and test set - again"
   ]
  },
  {
   "cell_type": "code",
   "execution_count": 98,
   "metadata": {},
   "outputs": [],
   "source": [
    "x = num_subset.iloc[:, -1].values\n",
    "y = num_subset.iloc[:, 1].values"
   ]
  },
  {
   "cell_type": "code",
   "execution_count": 99,
   "metadata": {},
   "outputs": [
    {
     "data": {
      "text/plain": [
       "array([ 42501.53,  14982.48,  56896.25, ...,   8525.92,  63716.35,\n",
       "       105891.78])"
      ]
     },
     "execution_count": 99,
     "metadata": {},
     "output_type": "execute_result"
    }
   ],
   "source": [
    "y"
   ]
  },
  {
   "cell_type": "code",
   "execution_count": 100,
   "metadata": {},
   "outputs": [
    {
     "data": {
      "text/plain": [
       "array([4, 3, 7, ..., 2, 4, 2])"
      ]
     },
     "execution_count": 100,
     "metadata": {},
     "output_type": "execute_result"
    }
   ],
   "source": [
    "x"
   ]
  },
  {
   "cell_type": "code",
   "execution_count": 101,
   "metadata": {},
   "outputs": [],
   "source": [
    "X_train, X_test, y_train, y_test = train_test_split(x, y, test_size = 0.2, random_state = 0)"
   ]
  },
  {
   "cell_type": "code",
   "execution_count": 102,
   "metadata": {},
   "outputs": [],
   "source": [
    "X_train= X_train.reshape(-1, 1)\n",
    "y_train= y_train.reshape(-1, 1)\n",
    "X_test = X_test.reshape(-1, 1)"
   ]
  },
  {
   "cell_type": "code",
   "execution_count": 104,
   "metadata": {},
   "outputs": [],
   "source": [
    "from sklearn.preprocessing import StandardScaler\n",
    "from sklearn.linear_model import LinearRegression\n",
    "\n",
    "scaler_x = StandardScaler()\n",
    "scaler_y = StandardScaler()\n",
    "regressor = LinearRegression()\n",
    "regressor.fit(X_train,y_train)\n",
    "\n",
    "y_pred = regressor.predict(X_test)"
   ]
  },
  {
   "cell_type": "code",
   "execution_count": 105,
   "metadata": {},
   "outputs": [],
   "source": [
    "#Xs = scaler_x.fit_transform(X_test)\n",
    "#Ys = np.squeeze(scaler_y.fit_transform(y_test.reshape(-1, 1)))"
   ]
  },
  {
   "cell_type": "code",
   "execution_count": 106,
   "metadata": {},
   "outputs": [],
   "source": [
    "#from sklearn.linear_model import LinearRegression\n",
    "\n",
    "#models = LinearRegression()\n",
    "#models.fit(Xs, Ys)"
   ]
  },
  {
   "cell_type": "code",
   "execution_count": 107,
   "metadata": {},
   "outputs": [
    {
     "data": {
      "text/plain": [
       "array([-0.00078377,  0.01894237, -0.00078377, ..., -0.00735916,\n",
       "        0.01236699, -0.00078377])"
      ]
     },
     "execution_count": 107,
     "metadata": {},
     "output_type": "execute_result"
    }
   ],
   "source": [
    "y_pred = models.predict(Xs)\n",
    "y_pred"
   ]
  },
  {
   "cell_type": "code",
   "execution_count": 110,
   "metadata": {},
   "outputs": [
    {
     "data": {
      "text/plain": [
       "<AxesSubplot:ylabel='Density'>"
      ]
     },
     "execution_count": 110,
     "metadata": {},
     "output_type": "execute_result"
    },
    {
     "data": {
      "image/png": "[encoded data removed]",
      "text/plain": [
       "<Figure size 432x288 with 1 Axes>"
      ]
     },
     "metadata": {
      "needs_background": "light"
     },
     "output_type": "display_data"
    }
   ],
   "source": [
    "sns.distplot(y_pred-y_test)"
   ]
  },
  {
   "cell_type": "code",
   "execution_count": null,
   "metadata": {},
   "outputs": [],
   "source": []
  }
 ],
 "metadata": {
  "kernelspec": {
   "display_name": "Python 3",
   "language": "python",
   "name": "python3"
  },
  "language_info": {
   "codemirror_mode": {
    "name": "ipython",
    "version": 3
   },
   "file_extension": ".py",
   "mimetype": "text/x-python",
   "name": "python",
   "nbconvert_exporter": "python",
   "pygments_lexer": "ipython3",
   "version": "3.8.5"
  },
  "vp": {
   "base_numbering": 1,
   "nav_menu": {},
   "number_sections": true,
   "sideBar": true,
   "title_cell": "VisualPython",
   "title_sidebar": "VisualPython",
   "vpPosition": {
    "height": "calc(100% - 180px)",
    "right": "10px",
    "top": "110px",
    "width": "50%"
   },
   "vp_cell": false,
   "vp_section_display": true,
   "vp_window_display": false
  }
 },
 "nbformat": 4,
 "nbformat_minor": 4
}
